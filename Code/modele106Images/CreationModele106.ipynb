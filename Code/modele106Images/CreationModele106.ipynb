{
 "cells": [
  {
   "cell_type": "markdown",
   "metadata": {},
   "source": [
    "Partie test du modele\n",
    "\n",
    "bibliothèque :"
   ]
  },
  {
   "cell_type": "code",
   "execution_count": 1,
   "metadata": {},
   "outputs": [],
   "source": [
    "import numpy as np\n",
    "\n",
    "import pandas as pd\n",
    "\n",
    "import matplotlib.pyplot as plt\n",
    "import matplotlib.image as img\n",
    "\n",
    "import os\n",
    "\n",
    "import cv2 as cv\n",
    "\n",
    "#Partie Sklearn\n",
    "import sklearn as sk\n",
    "from sklearn.preprocessing import LabelEncoder\n",
    "from sklearn.model_selection import train_test_split\n",
    "from sklearn.model_selection import train_test_split\n",
    "\n",
    "#Partie Tensorflow\n",
    "import tensorflow as tf\n",
    "from tensorflow.keras.models import Sequential\n",
    "from tensorflow.keras.utils import to_categorical\n",
    "from tensorflow.keras.layers import Dense, Dropout, Flatten, Activation, Conv2D, MaxPooling2D\n",
    "from tensorflow.keras.preprocessing.image import ImageDataGenerator\n",
    "from tensorflow.keras.optimizers import Adam,SGD,Adagrad,Adadelta,RMSprop"
   ]
  },
  {
   "cell_type": "markdown",
   "metadata": {},
   "source": [
    "Étape 1: Nettoyage des images"
   ]
  },
  {
   "cell_type": "code",
   "execution_count": 3,
   "metadata": {},
   "outputs": [],
   "source": [
    "data=[]\n",
    "label=[]\n",
    "size=128\n",
    "FlowerPath='../../flowers'        \n",
    "os.listdir(FlowerPath)\n",
    "for folder in os.listdir(FlowerPath):\n",
    "    for file in os.listdir(os.path.join(FlowerPath,folder)):\n",
    "        if file.endswith(\"jpeg\"):\n",
    "            label.append(folder)\n",
    "            img = cv.imread(os.path.join(FlowerPath,folder, file))\n",
    "            img_rgb = cv.cvtColor(img, cv.COLOR_BGR2RGB)\n",
    "            im = cv.resize(img_rgb, (size,size))\n",
    "            data.append(im)\n",
    "            \n",
    "        else: \n",
    "             continue\n",
    "\n",
    "data_arr = np.array(data)\n",
    "label_arr = np.array(label)\n",
    "encoder = LabelEncoder()\n",
    "y = encoder.fit_transform(label_arr)\n",
    "y = to_categorical(y,106)\n",
    "X = data_arr/255\n",
    "\n",
    "\n"
   ]
  },
  {
   "cell_type": "markdown",
   "metadata": {},
   "source": [
    "Étape 2 : Séparation des données, 20% dans le test et 80% dans l'entrainement"
   ]
  },
  {
   "cell_type": "code",
   "execution_count": 4,
   "metadata": {},
   "outputs": [],
   "source": [
    "X_train, X_test, y_train, y_test = train_test_split(X, y, test_size=0.20, random_state=10)"
   ]
  },
  {
   "cell_type": "markdown",
   "metadata": {},
   "source": [
    "Étape 3 : Création d'un générateur d'image"
   ]
  },
  {
   "cell_type": "code",
   "execution_count": 5,
   "metadata": {},
   "outputs": [],
   "source": [
    "datagen = ImageDataGenerator(\n",
    "        rotation_range=20,\n",
    "        zoom_range = 0.20,\n",
    "        width_shift_range=0.3,\n",
    "        height_shift_range=0.3,\n",
    "        horizontal_flip=True,\n",
    "        vertical_flip=True)\n",
    "\n",
    "datagen.fit(X_train)"
   ]
  },
  {
   "cell_type": "markdown",
   "metadata": {},
   "source": [
    "Étape 4 : Création d'un modele"
   ]
  },
  {
   "cell_type": "code",
   "execution_count": 6,
   "metadata": {},
   "outputs": [],
   "source": [
    "model = Sequential()\n",
    "model.add(Conv2D(filters = 64, kernel_size = (3,3),padding = 'Same',activation ='relu', input_shape = (size,size,3)))\n",
    "model.add(MaxPooling2D(pool_size=(2,2)))\n",
    "\n",
    "model.add(Conv2D(filters = 32, kernel_size = (3,3),padding = 'Same',activation ='relu'))\n",
    "model.add(Conv2D(filters = 64, kernel_size = (3,3),padding = 'Same',activation ='relu'))\n",
    "model.add(Conv2D(filters = 128, kernel_size = (3,3),padding = 'Same',activation ='relu'))\n",
    "model.add(MaxPooling2D(pool_size=(2,2)))\n",
    "\n",
    "model.add(Flatten())\n",
    "model.add(Dense(size, activation='relu'))\n",
    "model.add(Dense(64, activation='relu'))\n",
    "model.add(Dropout(rate=0.5))\n",
    "model.add(Dense(106, activation = \"softmax\"))\n",
    "\n",
    "\n",
    "\n",
    "\n"
   ]
  },
  {
   "cell_type": "markdown",
   "metadata": {},
   "source": [
    "Étape 5 : Premier entrainement"
   ]
  },
  {
   "cell_type": "code",
   "execution_count": 7,
   "metadata": {},
   "outputs": [
    {
     "name": "stderr",
     "output_type": "stream",
     "text": [
      "C:\\Users\\Mathy\\AppData\\Local\\Temp/ipykernel_26668/875621390.py:13: UserWarning: `Model.fit_generator` is deprecated and will be removed in a future version. Please use `Model.fit`, which supports generators.\n",
      "  history = model.fit_generator(datagen.flow(X_train,y_train, batch_size=batch_size),\n"
     ]
    },
    {
     "name": "stdout",
     "output_type": "stream",
     "text": [
      "Epoch 1/30\n",
      "319/319 [==============================] - ETA: 0s - loss: 2.5557 - accuracy: 0.3308\n",
      "Epoch 00001: saving model to modele\\cp.ckpt\n",
      "319/319 [==============================] - 261s 815ms/step - loss: 2.5557 - accuracy: 0.3308 - val_loss: 2.4180 - val_accuracy: 0.3740\n",
      "Epoch 2/30\n",
      "319/319 [==============================] - ETA: 0s - loss: 2.5190 - accuracy: 0.3342\n",
      "Epoch 00002: saving model to modele\\cp.ckpt\n",
      "319/319 [==============================] - 256s 801ms/step - loss: 2.5190 - accuracy: 0.3342 - val_loss: 2.3723 - val_accuracy: 0.3885\n",
      "Epoch 3/30\n",
      "319/319 [==============================] - ETA: 0s - loss: 2.4975 - accuracy: 0.3441\n",
      "Epoch 00003: saving model to modele\\cp.ckpt\n",
      "319/319 [==============================] - 255s 799ms/step - loss: 2.4975 - accuracy: 0.3441 - val_loss: 2.3602 - val_accuracy: 0.3889\n",
      "Epoch 4/30\n",
      "319/319 [==============================] - ETA: 0s - loss: 2.4924 - accuracy: 0.3456\n",
      "Epoch 00004: saving model to modele\\cp.ckpt\n",
      "319/319 [==============================] - 243s 759ms/step - loss: 2.4924 - accuracy: 0.3456 - val_loss: 2.3037 - val_accuracy: 0.4014\n",
      "Epoch 5/30\n",
      "319/319 [==============================] - ETA: 0s - loss: 2.4908 - accuracy: 0.3422\n",
      "Epoch 00005: saving model to modele\\cp.ckpt\n",
      "319/319 [==============================] - 238s 746ms/step - loss: 2.4908 - accuracy: 0.3422 - val_loss: 2.2954 - val_accuracy: 0.4038\n",
      "Epoch 6/30\n",
      "319/319 [==============================] - ETA: 0s - loss: 2.4842 - accuracy: 0.3494\n",
      "Epoch 00006: saving model to modele\\cp.ckpt\n",
      "319/319 [==============================] - 237s 743ms/step - loss: 2.4842 - accuracy: 0.3494 - val_loss: 2.2986 - val_accuracy: 0.4053\n",
      "Epoch 7/30\n",
      "319/319 [==============================] - ETA: 0s - loss: 2.4852 - accuracy: 0.3456\n",
      "Epoch 00007: saving model to modele\\cp.ckpt\n",
      "319/319 [==============================] - 237s 744ms/step - loss: 2.4852 - accuracy: 0.3456 - val_loss: 2.3114 - val_accuracy: 0.3991\n",
      "Epoch 8/30\n",
      "319/319 [==============================] - ETA: 0s - loss: 2.4694 - accuracy: 0.3477\n",
      "Epoch 00008: saving model to modele\\cp.ckpt\n",
      "319/319 [==============================] - 238s 744ms/step - loss: 2.4694 - accuracy: 0.3477 - val_loss: 2.2774 - val_accuracy: 0.4183\n",
      "Epoch 9/30\n",
      "319/319 [==============================] - ETA: 0s - loss: 2.4550 - accuracy: 0.3496\n",
      "Epoch 00009: saving model to modele\\cp.ckpt\n",
      "319/319 [==============================] - 238s 745ms/step - loss: 2.4550 - accuracy: 0.3496 - val_loss: 2.3599 - val_accuracy: 0.3916\n",
      "Epoch 10/30\n",
      "319/319 [==============================] - ETA: 0s - loss: 2.4556 - accuracy: 0.3561\n",
      "Epoch 00010: saving model to modele\\cp.ckpt\n",
      "319/319 [==============================] - 237s 741ms/step - loss: 2.4556 - accuracy: 0.3561 - val_loss: 2.4170 - val_accuracy: 0.3728\n",
      "Epoch 11/30\n",
      "319/319 [==============================] - ETA: 0s - loss: 2.4380 - accuracy: 0.3573\n",
      "Epoch 00011: saving model to modele\\cp.ckpt\n",
      "319/319 [==============================] - 237s 744ms/step - loss: 2.4380 - accuracy: 0.3573 - val_loss: 2.2426 - val_accuracy: 0.4163\n",
      "Epoch 12/30\n",
      "319/319 [==============================] - ETA: 0s - loss: 2.4348 - accuracy: 0.3602\n",
      "Epoch 00012: saving model to modele\\cp.ckpt\n",
      "319/319 [==============================] - 236s 740ms/step - loss: 2.4348 - accuracy: 0.3602 - val_loss: 2.3159 - val_accuracy: 0.4018\n",
      "Epoch 13/30\n",
      "319/319 [==============================] - ETA: 0s - loss: 2.4309 - accuracy: 0.3571\n",
      "Epoch 00013: saving model to modele\\cp.ckpt\n",
      "319/319 [==============================] - 237s 743ms/step - loss: 2.4309 - accuracy: 0.3571 - val_loss: 2.2743 - val_accuracy: 0.4151\n",
      "Epoch 14/30\n",
      "319/319 [==============================] - ETA: 0s - loss: 2.4202 - accuracy: 0.3593\n",
      "Epoch 00014: saving model to modele\\cp.ckpt\n",
      "319/319 [==============================] - 245s 766ms/step - loss: 2.4202 - accuracy: 0.3593 - val_loss: 2.3209 - val_accuracy: 0.3995\n",
      "Epoch 15/30\n",
      "319/319 [==============================] - ETA: 0s - loss: 2.3927 - accuracy: 0.3652\n",
      "Epoch 00015: saving model to modele\\cp.ckpt\n",
      "319/319 [==============================] - 248s 775ms/step - loss: 2.3927 - accuracy: 0.3652 - val_loss: 2.2863 - val_accuracy: 0.4093\n",
      "Epoch 16/30\n",
      "319/319 [==============================] - ETA: 0s - loss: 2.4187 - accuracy: 0.3571\n",
      "Epoch 00016: saving model to modele\\cp.ckpt\n",
      "319/319 [==============================] - 246s 771ms/step - loss: 2.4187 - accuracy: 0.3571 - val_loss: 2.3072 - val_accuracy: 0.4049\n",
      "Epoch 17/30\n",
      "319/319 [==============================] - ETA: 0s - loss: 2.3994 - accuracy: 0.3701\n",
      "Epoch 00017: saving model to modele\\cp.ckpt\n",
      "319/319 [==============================] - 263s 824ms/step - loss: 2.3994 - accuracy: 0.3701 - val_loss: 2.2303 - val_accuracy: 0.4206\n",
      "Epoch 18/30\n",
      "319/319 [==============================] - ETA: 0s - loss: 2.3779 - accuracy: 0.3699\n",
      "Epoch 00018: saving model to modele\\cp.ckpt\n",
      "319/319 [==============================] - 280s 876ms/step - loss: 2.3779 - accuracy: 0.3699 - val_loss: 2.2683 - val_accuracy: 0.4143\n",
      "Epoch 19/30\n",
      "319/319 [==============================] - ETA: 0s - loss: 2.3917 - accuracy: 0.3650\n",
      "Epoch 00019: saving model to modele\\cp.ckpt\n",
      "319/319 [==============================] - 247s 775ms/step - loss: 2.3917 - accuracy: 0.3650 - val_loss: 2.2615 - val_accuracy: 0.4034\n",
      "Epoch 20/30\n",
      "319/319 [==============================] - ETA: 0s - loss: 2.3815 - accuracy: 0.3654\n",
      "Epoch 00020: saving model to modele\\cp.ckpt\n",
      "319/319 [==============================] - 249s 779ms/step - loss: 2.3815 - accuracy: 0.3654 - val_loss: 2.3537 - val_accuracy: 0.3951\n",
      "Epoch 21/30\n",
      "319/319 [==============================] - ETA: 0s - loss: 2.3910 - accuracy: 0.3703\n",
      "Epoch 00021: saving model to modele\\cp.ckpt\n",
      "319/319 [==============================] - 244s 765ms/step - loss: 2.3910 - accuracy: 0.3703 - val_loss: 2.2938 - val_accuracy: 0.4057\n",
      "Epoch 22/30\n",
      "319/319 [==============================] - ETA: 0s - loss: 2.3630 - accuracy: 0.3762\n",
      "Epoch 00022: saving model to modele\\cp.ckpt\n",
      "319/319 [==============================] - 241s 754ms/step - loss: 2.3630 - accuracy: 0.3762 - val_loss: 2.2484 - val_accuracy: 0.4241\n",
      "Epoch 23/30\n",
      "319/319 [==============================] - ETA: 0s - loss: 2.3715 - accuracy: 0.3694\n",
      "Epoch 00023: saving model to modele\\cp.ckpt\n",
      "319/319 [==============================] - 238s 745ms/step - loss: 2.3715 - accuracy: 0.3694 - val_loss: 2.2588 - val_accuracy: 0.4187\n",
      "Epoch 24/30\n",
      "319/319 [==============================] - ETA: 0s - loss: 2.3559 - accuracy: 0.3791\n",
      "Epoch 00024: saving model to modele\\cp.ckpt\n",
      "319/319 [==============================] - 238s 744ms/step - loss: 2.3559 - accuracy: 0.3791 - val_loss: 2.3443 - val_accuracy: 0.4010\n",
      "Epoch 25/30\n",
      "319/319 [==============================] - ETA: 0s - loss: 2.3598 - accuracy: 0.3789\n",
      "Epoch 00025: saving model to modele\\cp.ckpt\n",
      "319/319 [==============================] - 241s 754ms/step - loss: 2.3598 - accuracy: 0.3789 - val_loss: 2.2419 - val_accuracy: 0.4210\n",
      "Epoch 26/30\n",
      "319/319 [==============================] - ETA: 0s - loss: 2.3439 - accuracy: 0.3775\n",
      "Epoch 00026: saving model to modele\\cp.ckpt\n",
      "319/319 [==============================] - 241s 756ms/step - loss: 2.3439 - accuracy: 0.3775 - val_loss: 2.1756 - val_accuracy: 0.4351\n",
      "Epoch 27/30\n",
      "319/319 [==============================] - ETA: 0s - loss: 2.3372 - accuracy: 0.3763\n",
      "Epoch 00027: saving model to modele\\cp.ckpt\n",
      "319/319 [==============================] - 245s 766ms/step - loss: 2.3372 - accuracy: 0.3763 - val_loss: 2.2700 - val_accuracy: 0.4222\n",
      "Epoch 28/30\n",
      "319/319 [==============================] - ETA: 0s - loss: 2.3208 - accuracy: 0.3832\n",
      "Epoch 00028: saving model to modele\\cp.ckpt\n",
      "319/319 [==============================] - 248s 775ms/step - loss: 2.3208 - accuracy: 0.3832 - val_loss: 2.2357 - val_accuracy: 0.4269\n",
      "Epoch 29/30\n",
      "319/319 [==============================] - ETA: 0s - loss: 2.3319 - accuracy: 0.3780\n",
      "Epoch 00029: saving model to modele\\cp.ckpt\n",
      "319/319 [==============================] - 247s 773ms/step - loss: 2.3319 - accuracy: 0.3780 - val_loss: 2.2465 - val_accuracy: 0.4241\n",
      "Epoch 30/30\n",
      "319/319 [==============================] - ETA: 0s - loss: 2.3190 - accuracy: 0.3836\n",
      "Epoch 00030: saving model to modele\\cp.ckpt\n",
      "319/319 [==============================] - 248s 778ms/step - loss: 2.3190 - accuracy: 0.3836 - val_loss: 2.1701 - val_accuracy: 0.4336\n"
     ]
    }
   ],
   "source": [
    "\n",
    "model.compile(optimizer=Adam(lr=0.0001),loss='categorical_crossentropy',metrics=['accuracy'])\n",
    "batch_size=32\n",
    "epochs=30\n",
    "\n",
    "checkpoint_path = \"../modele/cp.ckpt\"\n",
    "checkpoint_dir = os.path.dirname(checkpoint_path)\n",
    "\n",
    "# Create a callback that saves the model's weights\n",
    "cp_callback = tf.keras.callbacks.ModelCheckpoint(filepath=checkpoint_path,\n",
    "                                                 save_weights_only=True,\n",
    "                                                 verbose=1)\n",
    "\n",
    "history = model.fit_generator(datagen.flow(X_train,y_train, batch_size=batch_size),\n",
    "                              epochs = epochs,\n",
    "                              validation_data = (X_test,y_test),   \n",
    "                              verbose = 1,\n",
    "                              callbacks=[cp_callback])"
   ]
  },
  {
   "cell_type": "markdown",
   "metadata": {},
   "source": [
    "Étape 6 : Affichage des performance de  l'entrainement"
   ]
  },
  {
   "cell_type": "code",
   "execution_count": 10,
   "metadata": {},
   "outputs": [
    {
     "data": {
      "text/plain": [
       "Text(0.5, 1.0, 'Entrainement et Validation')"
      ]
     },
     "execution_count": 10,
     "metadata": {},
     "output_type": "execute_result"
    },
    {
     "data": {
      "image/png": "[encoded data removed]",
      "text/plain": [
       "<Figure size 576x576 with 1 Axes>"
      ]
     },
     "metadata": {
      "needs_background": "light"
     },
     "output_type": "display_data"
    }
   ],
   "source": [
    "acc = history.history['accuracy']\n",
    "val_acc = history.history['val_accuracy']\n",
    "\n",
    "loss = history.history['loss']\n",
    "val_loss = history.history['val_loss']\n",
    "\n",
    "epochs_range = range(epochs)\n",
    "\n",
    "plt.figure(figsize=(8, 8))\n",
    "plt.subplot(1, 2, 1)\n",
    "plt.plot(epochs_range, acc, label='Précision Entrainement')\n",
    "plt.plot(epochs_range, val_acc, label='Précision Validation')\n",
    "plt.legend()\n",
    "plt.title('Entrainement et Validation')"
   ]
  },
  {
   "cell_type": "markdown",
   "metadata": {},
   "source": [
    "Étape 7 : Sauvegarde du modele"
   ]
  },
  {
   "cell_type": "code",
   "execution_count": 9,
   "metadata": {},
   "outputs": [],
   "source": [
    "model.save('../modele/my_model.h5')\n",
    "del model"
   ]
  }
 ],
 "metadata": {
  "interpreter": {
   "hash": "1a13787ef1c4fcd089a917e91a1d39bad82f0cc1a097c16f88f4ddd436f64cc5"
  },
  "kernelspec": {
   "display_name": "Python 3.9.7 64-bit ('base': conda)",
   "language": "python",
   "name": "python3"
  },
  "language_info": {
   "codemirror_mode": {
    "name": "ipython",
    "version": 3
   },
   "file_extension": ".py",
   "mimetype": "text/x-python",
   "name": "python",
   "nbconvert_exporter": "python",
   "pygments_lexer": "ipython3",
   "version": "3.9.7"
  },
  "orig_nbformat": 4
 },
 "nbformat": 4,
 "nbformat_minor": 2
}
