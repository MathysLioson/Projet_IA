{
 "cells": [
  {
   "cell_type": "markdown",
   "metadata": {},
   "source": [
    "Entrainement du modèle sur 52 fichiers en le récupérant au préalable dans le fichier de sauvegarde"
   ]
  },
  {
   "cell_type": "markdown",
   "metadata": {},
   "source": [
    "Bibliothèques"
   ]
  },
  {
   "cell_type": "code",
   "execution_count": 1,
   "metadata": {},
   "outputs": [],
   "source": [
    "import numpy as np\n",
    "import pandas as pd\n",
    "import matplotlib.pyplot as plt\n",
    "import matplotlib.image as img\n",
    "import os\n",
    "import cv2 as cv\n",
    "\n",
    "#partie sklearn\n",
    "import sklearn as sk\n",
    "from sklearn.preprocessing import LabelEncoder\n",
    "from sklearn.model_selection import train_test_split\n",
    "\n",
    "#partie tensorFLow\n",
    "import tensorflow as tf\n",
    "from tensorflow.keras.utils import to_categorical\n",
    "from tensorflow.keras.models import Sequential\n",
    "from tensorflow.keras.layers import Dense, Dropout, Flatten, Activation, Conv2D, MaxPooling2D\n",
    "from tensorflow.keras.preprocessing.image import ImageDataGenerator\n",
    "from tensorflow.keras.optimizers import Adam,SGD,Adagrad,Adadelta,RMSprop\n",
    "\n"
   ]
  },
  {
   "cell_type": "code",
   "execution_count": 2,
   "metadata": {},
   "outputs": [],
   "source": [
    "size=128 #taille des images\n",
    "nbDir=52 #nombre de fichiers de fleurs"
   ]
  },
  {
   "cell_type": "markdown",
   "metadata": {},
   "source": [
    "Etape 1: Nettoyage des images"
   ]
  },
  {
   "cell_type": "code",
   "execution_count": 3,
   "metadata": {},
   "outputs": [],
   "source": [
    "data=[]\n",
    "label=[]\n",
    "FlowerPath='../../Flower52'\n",
    "\n",
    "\n",
    "#récupération des images et des noms d'espèces   \n",
    "os.listdir(FlowerPath)\n",
    "for folder in os.listdir(FlowerPath):\n",
    "    for file in os.listdir(os.path.join(FlowerPath,folder)):\n",
    "        if  file.endswith(\"jpeg\"):\n",
    "            label.append(folder) #on met le nom des dossiers (des espèces) dans label\n",
    "            img = cv.imread(os.path.join(FlowerPath,folder, file))\n",
    "            img_rgb = cv.cvtColor(img, cv.COLOR_BGR2RGB)\n",
    "            im = cv.resize(img_rgb, (size,size)) #recadre les images\n",
    "            data.append(im) #on met les images dans data\n",
    "                    \n",
    "        else: \n",
    "            continue\n",
    "\n",
    "data_arr = np.array(data)\n",
    "label_arr = np.array(label)\n",
    "y = LabelEncoder().fit_transform(label_arr)\n",
    "y = to_categorical(y,nbDir)\n",
    "X = data_arr/255"
   ]
  },
  {
   "cell_type": "markdown",
   "metadata": {},
   "source": [
    "Etape 2: Séparation des données, 20% dans test et le reste dans train"
   ]
  },
  {
   "cell_type": "code",
   "execution_count": 4,
   "metadata": {},
   "outputs": [],
   "source": [
    "X_train, X_test, y_train, y_test = train_test_split(X, y, test_size=0.20, random_state=10)"
   ]
  },
  {
   "cell_type": "markdown",
   "metadata": {},
   "source": [
    "Etape 3: Chargement du modèle existant"
   ]
  },
  {
   "cell_type": "code",
   "execution_count": 5,
   "metadata": {},
   "outputs": [
    {
     "name": "stdout",
     "output_type": "stream",
     "text": [
      "Model: \"sequential\"\n",
      "_________________________________________________________________\n",
      " Layer (type)                Output Shape              Param #   \n",
      "=================================================================\n",
      " conv2d (Conv2D)             (None, 128, 128, 64)      1792      \n",
      "                                                                 \n",
      " max_pooling2d (MaxPooling2D  (None, 64, 64, 64)       0         \n",
      " )                                                               \n",
      "                                                                 \n",
      " conv2d_1 (Conv2D)           (None, 64, 64, 32)        18464     \n",
      "                                                                 \n",
      " conv2d_2 (Conv2D)           (None, 64, 64, 64)        18496     \n",
      "                                                                 \n",
      " conv2d_3 (Conv2D)           (None, 64, 64, 128)       73856     \n",
      "                                                                 \n",
      " max_pooling2d_1 (MaxPooling  (None, 32, 32, 128)      0         \n",
      " 2D)                                                             \n",
      "                                                                 \n",
      " flatten (Flatten)           (None, 131072)            0         \n",
      "                                                                 \n",
      " dense (Dense)               (None, 128)               16777344  \n",
      "                                                                 \n",
      " dense_1 (Dense)             (None, 64)                8256      \n",
      "                                                                 \n",
      " dropout (Dropout)           (None, 64)                0         \n",
      "                                                                 \n",
      " dense_2 (Dense)             (None, 52)                3380      \n",
      "                                                                 \n",
      "=================================================================\n",
      "Total params: 16,901,588\n",
      "Trainable params: 16,901,588\n",
      "Non-trainable params: 0\n",
      "_________________________________________________________________\n"
     ]
    },
    {
     "name": "stderr",
     "output_type": "stream",
     "text": [
      "C:\\Users\\Hugo\\anaconda3\\lib\\site-packages\\keras\\optimizer_v2\\adam.py:105: UserWarning: The `lr` argument is deprecated, use `learning_rate` instead.\n",
      "  super(Adam, self).__init__(name, **kwargs)\n"
     ]
    }
   ],
   "source": [
    "new_model = tf.keras.models.load_model('modele52/my_model')\n",
    "new_model.summary()\n",
    "new_model.compile(optimizer=Adam(lr=0.0001),loss='categorical_crossentropy',metrics=['accuracy'])"
   ]
  },
  {
   "cell_type": "code",
   "execution_count": 6,
   "metadata": {},
   "outputs": [],
   "source": [
    "datagen = ImageDataGenerator(\n",
    "        rotation_range=20,\n",
    "        zoom_range = 0.20,\n",
    "        width_shift_range=0.3,\n",
    "        height_shift_range=0.3,\n",
    "        horizontal_flip=True,\n",
    "        vertical_flip=True)\n",
    "\n",
    "datagen.fit(X_train)"
   ]
  },
  {
   "cell_type": "markdown",
   "metadata": {},
   "source": [
    "Etape 4: Entrainement"
   ]
  },
  {
   "cell_type": "code",
   "execution_count": 7,
   "metadata": {},
   "outputs": [
    {
     "name": "stderr",
     "output_type": "stream",
     "text": [
      "C:\\Users\\Hugo\\AppData\\Local\\Temp/ipykernel_15664/4150708022.py:11: UserWarning: `Model.fit_generator` is deprecated and will be removed in a future version. Please use `Model.fit`, which supports generators.\n",
      "  history = new_model.fit_generator(datagen.flow(X_train,y_train, batch_size=batch_size),\n"
     ]
    },
    {
     "name": "stdout",
     "output_type": "stream",
     "text": [
      "Epoch 1/20\n",
      "180/180 [==============================] - ETA: 0s - loss: 1.0743 - accuracy: 0.6666\n",
      "Epoch 00001: saving model to modele52\\cp.ckpt\n",
      "180/180 [==============================] - 350s 2s/step - loss: 1.0743 - accuracy: 0.6666 - val_loss: 1.5496 - val_accuracy: 0.6455\n",
      "Epoch 2/20\n",
      "180/180 [==============================] - ETA: 0s - loss: 1.0349 - accuracy: 0.6880\n",
      "Epoch 00002: saving model to modele52\\cp.ckpt\n",
      "180/180 [==============================] - 361s 2s/step - loss: 1.0349 - accuracy: 0.6880 - val_loss: 1.6639 - val_accuracy: 0.6350\n",
      "Epoch 3/20\n",
      "180/180 [==============================] - ETA: 0s - loss: 1.0367 - accuracy: 0.6866\n",
      "Epoch 00003: saving model to modele52\\cp.ckpt\n",
      "180/180 [==============================] - 364s 2s/step - loss: 1.0367 - accuracy: 0.6866 - val_loss: 1.5127 - val_accuracy: 0.6406\n",
      "Epoch 4/20\n",
      "180/180 [==============================] - ETA: 0s - loss: 1.0426 - accuracy: 0.6823\n",
      "Epoch 00004: saving model to modele52\\cp.ckpt\n",
      "180/180 [==============================] - 363s 2s/step - loss: 1.0426 - accuracy: 0.6823 - val_loss: 1.6800 - val_accuracy: 0.6204\n",
      "Epoch 5/20\n",
      "180/180 [==============================] - ETA: 0s - loss: 1.0571 - accuracy: 0.6772\n",
      "Epoch 00005: saving model to modele52\\cp.ckpt\n",
      "180/180 [==============================] - 365s 2s/step - loss: 1.0571 - accuracy: 0.6772 - val_loss: 1.5822 - val_accuracy: 0.6260\n",
      "Epoch 6/20\n",
      "180/180 [==============================] - ETA: 0s - loss: 1.0557 - accuracy: 0.6796\n",
      "Epoch 00006: saving model to modele52\\cp.ckpt\n",
      "180/180 [==============================] - 363s 2s/step - loss: 1.0557 - accuracy: 0.6796 - val_loss: 1.6887 - val_accuracy: 0.6190\n",
      "Epoch 7/20\n",
      "180/180 [==============================] - ETA: 0s - loss: 1.0433 - accuracy: 0.6777\n",
      "Epoch 00007: saving model to modele52\\cp.ckpt\n",
      "180/180 [==============================] - 364s 2s/step - loss: 1.0433 - accuracy: 0.6777 - val_loss: 1.6107 - val_accuracy: 0.6301\n",
      "Epoch 8/20\n",
      "180/180 [==============================] - ETA: 0s - loss: 1.0475 - accuracy: 0.6880\n",
      "Epoch 00008: saving model to modele52\\cp.ckpt\n",
      "180/180 [==============================] - 364s 2s/step - loss: 1.0475 - accuracy: 0.6880 - val_loss: 1.6250 - val_accuracy: 0.6246\n",
      "Epoch 9/20\n",
      "180/180 [==============================] - ETA: 0s - loss: 1.0352 - accuracy: 0.6843\n",
      "Epoch 00009: saving model to modele52\\cp.ckpt\n",
      "180/180 [==============================] - 365s 2s/step - loss: 1.0352 - accuracy: 0.6843 - val_loss: 1.5753 - val_accuracy: 0.6232\n",
      "Epoch 10/20\n",
      "180/180 [==============================] - ETA: 0s - loss: 1.0557 - accuracy: 0.6796\n",
      "Epoch 00010: saving model to modele52\\cp.ckpt\n",
      "180/180 [==============================] - 373s 2s/step - loss: 1.0557 - accuracy: 0.6796 - val_loss: 1.7011 - val_accuracy: 0.6141\n",
      "Epoch 11/20\n",
      "180/180 [==============================] - ETA: 0s - loss: 1.0628 - accuracy: 0.6842\n",
      "Epoch 00011: saving model to modele52\\cp.ckpt\n",
      "180/180 [==============================] - 364s 2s/step - loss: 1.0628 - accuracy: 0.6842 - val_loss: 1.5448 - val_accuracy: 0.6148\n",
      "Epoch 12/20\n",
      "180/180 [==============================] - ETA: 0s - loss: 1.0390 - accuracy: 0.6831\n",
      "Epoch 00012: saving model to modele52\\cp.ckpt\n",
      "180/180 [==============================] - 362s 2s/step - loss: 1.0390 - accuracy: 0.6831 - val_loss: 1.6073 - val_accuracy: 0.6322\n",
      "Epoch 13/20\n",
      "180/180 [==============================] - ETA: 0s - loss: 1.0579 - accuracy: 0.6877\n",
      "Epoch 00013: saving model to modele52\\cp.ckpt\n",
      "180/180 [==============================] - 362s 2s/step - loss: 1.0579 - accuracy: 0.6877 - val_loss: 1.5323 - val_accuracy: 0.6225\n",
      "Epoch 14/20\n",
      "180/180 [==============================] - ETA: 0s - loss: 1.0383 - accuracy: 0.6833\n",
      "Epoch 00014: saving model to modele52\\cp.ckpt\n",
      "180/180 [==============================] - 361s 2s/step - loss: 1.0383 - accuracy: 0.6833 - val_loss: 1.5860 - val_accuracy: 0.6169\n",
      "Epoch 15/20\n",
      "180/180 [==============================] - ETA: 0s - loss: 1.0478 - accuracy: 0.6892\n",
      "Epoch 00015: saving model to modele52\\cp.ckpt\n",
      "180/180 [==============================] - 369s 2s/step - loss: 1.0478 - accuracy: 0.6892 - val_loss: 1.5722 - val_accuracy: 0.6239\n",
      "Epoch 16/20\n",
      "180/180 [==============================] - ETA: 0s - loss: 1.0232 - accuracy: 0.6903\n",
      "Epoch 00016: saving model to modele52\\cp.ckpt\n",
      "180/180 [==============================] - 357s 2s/step - loss: 1.0232 - accuracy: 0.6903 - val_loss: 1.5856 - val_accuracy: 0.6267\n",
      "Epoch 17/20\n",
      "180/180 [==============================] - ETA: 0s - loss: 1.0295 - accuracy: 0.6877\n",
      "Epoch 00017: saving model to modele52\\cp.ckpt\n",
      "180/180 [==============================] - 384s 2s/step - loss: 1.0295 - accuracy: 0.6877 - val_loss: 1.7458 - val_accuracy: 0.6197\n",
      "Epoch 18/20\n",
      "180/180 [==============================] - ETA: 0s - loss: 1.0453 - accuracy: 0.6864\n",
      "Epoch 00018: saving model to modele52\\cp.ckpt\n",
      "180/180 [==============================] - 386s 2s/step - loss: 1.0453 - accuracy: 0.6864 - val_loss: 1.6138 - val_accuracy: 0.6183\n",
      "Epoch 19/20\n",
      "180/180 [==============================] - ETA: 0s - loss: 1.0440 - accuracy: 0.6802\n",
      "Epoch 00019: saving model to modele52\\cp.ckpt\n",
      "180/180 [==============================] - 388s 2s/step - loss: 1.0440 - accuracy: 0.6802 - val_loss: 1.6370 - val_accuracy: 0.6253\n",
      "Epoch 20/20\n",
      "180/180 [==============================] - ETA: 0s - loss: 1.0581 - accuracy: 0.6779\n",
      "Epoch 00020: saving model to modele52\\cp.ckpt\n",
      "180/180 [==============================] - 388s 2s/step - loss: 1.0581 - accuracy: 0.6779 - val_loss: 1.6044 - val_accuracy: 0.6378\n"
     ]
    }
   ],
   "source": [
    "batch_size=32\n",
    "epochs=20\n",
    "\n",
    "checkpoint_path = \"modele52/cp.ckpt\"\n",
    "checkpoint_dir = os.path.dirname(checkpoint_path)\n",
    "\n",
    "cp_callback = tf.keras.callbacks.ModelCheckpoint(filepath=checkpoint_path,\n",
    "                                                 save_weights_only=True,\n",
    "                                                 verbose=1)\n",
    "\n",
    "history = new_model.fit_generator(datagen.flow(X_train,y_train, batch_size=batch_size),\n",
    "                              epochs = epochs,\n",
    "                              validation_data = (X_test,y_test),   \n",
    "                              verbose = 1,\n",
    "                              callbacks=[cp_callback])"
   ]
  },
  {
   "cell_type": "markdown",
   "metadata": {},
   "source": [
    "Etape 5: Sauvegarde"
   ]
  },
  {
   "cell_type": "code",
   "execution_count": 8,
   "metadata": {},
   "outputs": [
    {
     "name": "stdout",
     "output_type": "stream",
     "text": [
      "INFO:tensorflow:Assets written to: modele52/my_model\\assets\n"
     ]
    }
   ],
   "source": [
    "new_model.save('modele52/my_model')\n",
    "del new_model"
   ]
  }
 ],
 "metadata": {
  "interpreter": {
   "hash": "1a13787ef1c4fcd089a917e91a1d39bad82f0cc1a097c16f88f4ddd436f64cc5"
  },
  "kernelspec": {
   "display_name": "Python 3.9.7 64-bit ('base': conda)",
   "language": "python",
   "name": "python3"
  },
  "language_info": {
   "codemirror_mode": {
    "name": "ipython",
    "version": 3
   },
   "file_extension": ".py",
   "mimetype": "text/x-python",
   "name": "python",
   "nbconvert_exporter": "python",
   "pygments_lexer": "ipython3",
   "version": "3.9.7"
  },
  "orig_nbformat": 4
 },
 "nbformat": 4,
 "nbformat_minor": 2
}
